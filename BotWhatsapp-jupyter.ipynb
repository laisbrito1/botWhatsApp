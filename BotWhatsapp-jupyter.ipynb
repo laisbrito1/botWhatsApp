{
 "cells": [
  {
   "cell_type": "code",
   "execution_count": null,
   "metadata": {},
   "outputs": [],
   "source": [
    "time.sleep(8)\n",
    "pyautogui.position()"
   ]
  },
  {
   "cell_type": "code",
   "execution_count": null,
   "metadata": {},
   "outputs": [],
   "source": [
    "import pyautogui\n",
    "import pyperclip #copia caracteres especiais\n",
    "import time\n",
    "\n",
    "\n",
    "pyautogui.PAUSE = 1\n",
    "\n",
    "\n",
    "pyautogui.hotkey(\"ctrl\", \"t\") #abre nova aba\n",
    "pyperclip.copy (\"https://web.whatsapp.com/\")\n",
    "pyautogui.hotkey(\"ctrl\", \"v\") #cola o link\n",
    "pyautogui.press (\"enter\")\n",
    "time.sleep(30)\n",
    "\n",
    "#a partir daqui é necessário usar o comando time.sleep(8) pyautogui.position() para saber as coordenadas do mouse\n",
    "pyautogui.click (x=366, y=321, clicks=1)\n",
    "pyautogui.write (\"#nome do contato#\")\n",
    "pyautogui.click (x=283, y=511, clicks=1)\n",
    "pyautogui.click (x=831, y=895,clicks=1)\n",
    "pyautogui.write (\"Oie, Bom dia!\")\n",
    "pyautogui.press (\"enter\")"
   ]
  }
 ],
 "metadata": {
  "kernelspec": {
   "display_name": "Python 3 (ipykernel)",
   "language": "python",
   "name": "python3"
  },
  "language_info": {
   "codemirror_mode": {
    "name": "ipython",
    "version": 3
   },
   "file_extension": ".py",
   "mimetype": "text/x-python",
   "name": "python",
   "nbconvert_exporter": "python",
   "pygments_lexer": "ipython3",
   "version": "3.9.7"
  }
 },
 "nbformat": 4,
 "nbformat_minor": 4
}
